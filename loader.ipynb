{
 "cells": [
  {
   "cell_type": "code",
   "execution_count": 51,
   "metadata": {},
   "outputs": [],
   "source": [
    "# Imports\n",
    "import streamlit as st\n",
    "from langchain.vectorstores import Qdrant\n",
    "from langchain.embeddings.openai import OpenAIEmbeddings\n",
    "from langchain.chains import RetrievalQA\n",
    "from langchain.llms import OpenAI\n",
    "from qdrant_client import QdrantClient, models\n",
    "import os\n",
    "import qdrant_client\n",
    "from langchain_community.document_loaders import WebBaseLoader\n",
    "from langchain_text_splitters import RecursiveCharacterTextSplitter\n"
   ]
  },
  {
   "cell_type": "code",
   "execution_count": 52,
   "metadata": {},
   "outputs": [],
   "source": [
    "# create qdrant client\n",
    "client = qdrant_client.QdrantClient(\n",
    "        st.secrets[\"QDRANT_HOST\"], \n",
    "        api_key=st.secrets[\"QDRANT_API_KEY\"]\n",
    "    )"
   ]
  },
  {
   "cell_type": "code",
   "execution_count": null,
   "metadata": {},
   "outputs": [],
   "source": [
    "# delete collection\n",
    "client.delete_collection(collection_name=st.secrets[\"QDRANT_COLLECTION_NAME\"])"
   ]
  },
  {
   "cell_type": "code",
   "execution_count": 54,
   "metadata": {},
   "outputs": [],
   "source": [
    "# create collection and vector store\n",
    "\n",
    "# define parameters for vectors\n",
    "vectors_config = models.VectorParams(\n",
    "    size=1536, # vector size for OpenAI\n",
    "    distance=models.Distance.COSINE\n",
    ")\n",
    "# create collection\n",
    "client.recreate_collection(\n",
    "    collection_name=st.secrets[\"QDRANT_COLLECTION_NAME\"],\n",
    "    vectors_config=vectors_config,\n",
    ")\n",
    "# define embeddings\n",
    "embeddings = OpenAIEmbeddings()\n",
    "# create vector store\n",
    "vector_store = Qdrant(\n",
    "    client=client, \n",
    "    collection_name=st.secrets[\"QDRANT_COLLECTION_NAME\"], \n",
    "    embeddings=embeddings,\n",
    ")"
   ]
  },
  {
   "cell_type": "code",
   "execution_count": 55,
   "metadata": {},
   "outputs": [],
   "source": [
    "# load webpages to vector store\n",
    "header_text_length = len('NF ComicsHOMEcomicsMerchLoreLORE AIMapMORE Characters Contact Us Marketplace Gallery nfh iq join our community Buy on openseabuy now')\n",
    "footer_text_length = len(\"<< Back to allrelated postsThe Heroes LeagueThe Hero's League is a prestigious and diverse group of superpowered individuals dedicated to protecting Genesis City and maintaining peace within The Frontier.AlphaDeep within The Frontier, an ancient and pervasive force akin to Ch’i courses through the very essence of every living being.DumaThe head of LD Industries, Alexander Yowleus Duma, or Lord Duma as he calls himself, is one of Genesis City's most prominent businessmen. Volt: Lore AIWant to know more about the lore of the Frontier? Volt is here to help you dive in and get your creative juices flowing.Try nownew frontiercomics Join Our Email ListThank you! Your submission has been received!Oops! Something went wrong while submitting the form.supportNFHEROES.iobecome a vipIP RightsT&CPrivacy© 2024 NFHeroes. All Rights Reserved. Powered by Gen City Labs\")\n",
    "\n",
    "def get_vectorstore_from_url(url):\n",
    "    loader = WebBaseLoader(url)\n",
    "    documents = loader.load()\n",
    "    doc_text = documents[0].page_content\n",
    "    cleaned_doc_string = doc_text[header_text_length:-(footer_text_length-100)]\n",
    "    text_splitter = RecursiveCharacterTextSplitter(chunk_size=1000,chunk_overlap=200)\n",
    "    chunks = text_splitter.split_text(cleaned_doc_string)\n",
    "    vector_store.add_texts(chunks)\n",
    "    return chunks"
   ]
  },
  {
   "cell_type": "code",
   "execution_count": 56,
   "metadata": {},
   "outputs": [],
   "source": [
    "# Create url list\n",
    "url_base = 'https://www.newfrontiercomics.com/post/'\n",
    "url_tails = ['the-abandon', 'the-heroes-league', 'alpha', 'duma', 'night-ape', 'bella-bash', 'griff',\n",
    "             'rat-rider', 'uptown', 'downtown', 'the-docks', 'industrial-park', 'new-hope-junior-academy']\n",
    "url_list = []\n",
    "for tail in url_tails:\n",
    "    url = f\"{url_base}{tail}\"\n",
    "    url_list.append(url)"
   ]
  },
  {
   "cell_type": "code",
   "execution_count": 57,
   "metadata": {},
   "outputs": [],
   "source": [
    "# Upload website content to vector store\n",
    "for url in url_list:\n",
    "    get_vectorstore_from_url(url)\n",
    "    "
   ]
  },
  {
   "cell_type": "code",
   "execution_count": null,
   "metadata": {},
   "outputs": [],
   "source": []
  }
 ],
 "metadata": {
  "kernelspec": {
   "display_name": "base",
   "language": "python",
   "name": "python3"
  },
  "language_info": {
   "codemirror_mode": {
    "name": "ipython",
    "version": 3
   },
   "file_extension": ".py",
   "mimetype": "text/x-python",
   "name": "python",
   "nbconvert_exporter": "python",
   "pygments_lexer": "ipython3",
   "version": "3.11.4"
  }
 },
 "nbformat": 4,
 "nbformat_minor": 2
}
